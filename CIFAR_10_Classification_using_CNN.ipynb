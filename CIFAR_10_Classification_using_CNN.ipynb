{
  "nbformat": 4,
  "nbformat_minor": 0,
  "metadata": {
    "colab": {
      "provenance": [],
      "gpuType": "T4"
    },
    "kernelspec": {
      "name": "python3",
      "display_name": "Python 3"
    },
    "language_info": {
      "name": "python"
    },
    "accelerator": "GPU"
  },
  "cells": [
    {
      "cell_type": "code",
      "source": [
        "import torch\n",
        "import torch.nn as nn\n",
        "import torch.optim as optim\n",
        "import torchvision\n",
        "import torchvision.transforms as transforms\n",
        "import numpy as np\n",
        "import matplotlib.pyplot as plt"
      ],
      "metadata": {
        "id": "EpAqRtXzI3hZ"
      },
      "execution_count": 4,
      "outputs": []
    },
    {
      "cell_type": "code",
      "source": [
        "# Set device\n",
        "device = torch.device('cuda' if torch.cuda.is_available() else 'cpu')\n",
        "\n",
        "# CIFAR-10 dataset\n",
        "transform = transforms.Compose([\n",
        "    transforms.ToTensor(),\n",
        "    transforms.Normalize((0.5, 0.5, 0.5), (0.5, 0.5, 0.5))\n",
        "])\n",
        "\n",
        "train_dataset = torchvision.datasets.CIFAR10(root='./data', train=True, download=True, transform=transform)\n",
        "test_dataset = torchvision.datasets.CIFAR10(root='./data', train=False, download=True, transform=transform)\n",
        "\n",
        "train_loader = torch.utils.data.DataLoader(train_dataset, batch_size=64, shuffle=True)\n",
        "test_loader = torch.utils.data.DataLoader(test_dataset, batch_size=64, shuffle=False)\n",
        "\n",
        "# Define the CNN\n",
        "class CNN(nn.Module):\n",
        "    def __init__(self):\n",
        "        super(CNN, self).__init__()\n",
        "        self.conv1 = nn.Conv2d(3, 32, kernel_size=3, padding=1)\n",
        "        self.bn1 = nn.BatchNorm2d(32)\n",
        "        self.pool = nn.MaxPool2d(2, 2)\n",
        "        self.dropout = nn.Dropout(0.2)\n",
        "\n",
        "        self.conv2 = nn.Conv2d(32, 64, kernel_size=3, padding=1)\n",
        "        self.bn2 = nn.BatchNorm2d(64)\n",
        "\n",
        "        self.conv3 = nn.Conv2d(64, 128, kernel_size=3, padding=1)\n",
        "        self.bn3 = nn.BatchNorm2d(128)\n",
        "\n",
        "        self.conv4 = nn.Conv2d(128, 256, kernel_size=3, padding=1)\n",
        "        self.bn4 = nn.BatchNorm2d(256)\n",
        "\n",
        "        self.fc1 = nn.Linear(256 * 2 * 2, 64)\n",
        "        self.fc2 = nn.Linear(64, 10)\n",
        "\n",
        "    def forward(self, x):\n",
        "        x = self.pool(self.bn1(torch.relu(self.conv1(x))))\n",
        "        x = self.dropout(x)\n",
        "        x = self.pool(self.bn2(torch.relu(self.conv2(x))))\n",
        "        x = self.dropout(x)\n",
        "        x = self.pool(self.bn3(torch.relu(self.conv3(x))))\n",
        "        x = self.dropout(x)\n",
        "        x = self.pool(self.bn4(torch.relu(self.conv4(x))))\n",
        "        x = self.dropout(x)\n",
        "        x = x.view(-1, 256 * 2 * 2)  # Flatten\n",
        "        x = torch.relu(self.fc1(x))\n",
        "        x = self.fc2(x)\n",
        "        return x\n",
        "\n",
        "# Initialize the network\n",
        "model = CNN().to(device)\n",
        "\n",
        "# Loss and optimizer\n",
        "criterion = nn.CrossEntropyLoss()\n",
        "optimizer = optim.Adam(model.parameters(), lr=0.001)\n",
        "\n",
        "# Training loop\n",
        "num_epochs = 10\n",
        "for epoch in range(num_epochs):\n",
        "    running_loss = 0.0\n",
        "    for images, labels in train_loader:\n",
        "        images, labels = images.to(device), labels.to(device)\n",
        "\n",
        "        # Forward pass\n",
        "        outputs = model(images)\n",
        "        loss = criterion(outputs, labels)\n",
        "\n",
        "        # Backward pass and optimize\n",
        "        optimizer.zero_grad()\n",
        "        loss.backward()\n",
        "        optimizer.step()\n",
        "\n",
        "        running_loss += loss.item()\n",
        "\n",
        "    print(f\"Epoch [{epoch+1}/{num_epochs}], Loss: {running_loss/len(train_loader):.4f}\")"
      ],
      "metadata": {
        "colab": {
          "base_uri": "https://localhost:8080/"
        },
        "id": "1Xw0Ic3iMWDY",
        "outputId": "207cf537-23f8-47b3-9ed1-5ad9c422465b"
      },
      "execution_count": 3,
      "outputs": [
        {
          "output_type": "stream",
          "name": "stdout",
          "text": [
            "Files already downloaded and verified\n",
            "Files already downloaded and verified\n",
            "Epoch [1/10], Loss: 1.2294\n",
            "Epoch [2/10], Loss: 0.8867\n",
            "Epoch [3/10], Loss: 0.7526\n",
            "Epoch [4/10], Loss: 0.6714\n",
            "Epoch [5/10], Loss: 0.6158\n",
            "Epoch [6/10], Loss: 0.5768\n",
            "Epoch [7/10], Loss: 0.5315\n",
            "Epoch [8/10], Loss: 0.5042\n",
            "Epoch [9/10], Loss: 0.4708\n",
            "Epoch [10/10], Loss: 0.4495\n"
          ]
        }
      ]
    },
    {
      "cell_type": "code",
      "source": [
        "# Testing\n",
        "model.eval()\n",
        "correct = 0\n",
        "total = 0\n",
        "with torch.no_grad():\n",
        "    for images, labels in test_loader:\n",
        "        images, labels = images.to(device), labels.to(device)\n",
        "        outputs = model(images)\n",
        "        _, predicted = torch.max(outputs, 1)\n",
        "        total += labels.size(0)\n",
        "        correct += (predicted == labels).sum().item()\n",
        "\n",
        "print(f'Test Accuracy: {100 * correct / total:.2f}%')"
      ],
      "metadata": {
        "colab": {
          "base_uri": "https://localhost:8080/"
        },
        "id": "J882ljyKMa7g",
        "outputId": "a86c61e4-3a6a-465e-9e98-5997e1920d5e"
      },
      "execution_count": 5,
      "outputs": [
        {
          "output_type": "stream",
          "name": "stdout",
          "text": [
            "Test Accuracy: 79.90%\n"
          ]
        }
      ]
    },
    {
      "cell_type": "code",
      "execution_count": 14,
      "metadata": {
        "colab": {
          "base_uri": "https://localhost:8080/"
        },
        "id": "sAUTOLBitskv",
        "outputId": "a640faca-1dfe-4d95-afeb-a845fa7e890d"
      },
      "outputs": [
        {
          "output_type": "stream",
          "name": "stdout",
          "text": [
            "Shape of images: torch.Size([64, 3, 32, 32])\n",
            "Shape of labels: torch.Size([64])\n",
            "Actual labels: tensor([3, 8, 8, 0, 6, 6, 1, 6, 3, 1, 0, 9, 5, 7, 9, 8, 5, 7, 8, 6, 7, 0, 4, 9,\n",
            "        5, 2, 4, 0, 9, 6, 6, 5, 4, 5, 9, 2, 4, 1, 9, 5, 4, 6, 5, 6, 0, 9, 3, 9,\n",
            "        7, 6, 9, 8, 0, 3, 8, 8, 7, 7, 4, 6, 7, 3, 6, 3])\n",
            "Raw model outputs (logits): tensor([[ -4.3204,  -4.9693,  -2.7758,   6.2715,  -2.5287,   2.1188,   1.4298,\n",
            "          -3.3165,  -3.7202,  -4.8529],\n",
            "        [  3.1101,   6.7208,  -6.9168,  -2.3659,  -8.7572,  -6.6442,  -5.0455,\n",
            "          -7.8479,   8.4804,  -0.4426],\n",
            "        [  2.7975,   1.6014,  -3.1072,  -3.6299,  -5.4096,  -4.1930,  -6.3468,\n",
            "          -2.4906,   5.2224,   0.4512],\n",
            "        [  5.5603,  -3.6957,   0.7746,  -0.6335,  -1.0760,  -4.2340,  -2.3674,\n",
            "          -4.1355,   1.0919,  -2.6328],\n",
            "        [ -6.9245,  -4.3190,   0.0939,   2.9077,   3.8306,  -2.2463,   6.7335,\n",
            "          -5.4709,  -2.5547,  -3.6933],\n",
            "        [ -4.5824,  -9.4943,  -0.8321,   1.7422,   1.4447,   1.2057,   7.4539,\n",
            "          -3.6304,  -7.2158,  -8.4550],\n",
            "        [  1.3233,   3.6420,  -3.2281,   0.8462,  -4.4633,  -0.4020,  -3.0157,\n",
            "          -2.0476,  -2.8834,   3.7129],\n",
            "        [ -2.9203,  -7.1744,   0.8362,  -0.1437,   3.0951,  -2.0079,   3.9618,\n",
            "          -2.3136,  -3.9702,  -4.8426],\n",
            "        [ -5.0009,  -9.6495,  -1.7426,   5.6933,   2.6038,   1.6633,  -1.2273,\n",
            "          -0.8963,  -8.4550,  -8.0848],\n",
            "        [  0.8806,   6.3386,  -6.6674,  -2.3747,  -4.6418,  -4.0158,  -2.0210,\n",
            "          -5.2773,   1.8541,   7.0302],\n",
            "        [  1.6098,  -7.4824,  -1.5435,  -0.7235,   1.8317,  -1.1264,  -3.3967,\n",
            "          -0.9500,  -2.9091,  -5.7822],\n",
            "        [  0.1212,   8.1090, -11.3475,  -3.4204,  -8.7714,  -6.2557,  -8.3875,\n",
            "          -2.4455,  -1.4396,  23.0526],\n",
            "        [ -4.4277,  -4.6766,  -2.5747,   1.6908,   1.9672,   1.6918,  -0.3234,\n",
            "           0.6930,  -4.3950,  -5.0000],\n",
            "        [ -3.5450,  -5.9631,  -1.5086,  -1.3173,  -2.1841,   2.7691,  -6.5893,\n",
            "          12.2679,  -5.6949,  -4.6034],\n",
            "        [  1.5565,   3.4271,  -5.0944,  -3.1038,  -5.8113,  -4.4777,  -7.2254,\n",
            "          -0.1060,   0.6391,  12.6351],\n",
            "        [ -0.4050,  -2.5593,  -2.8982,  -3.4285,  -3.5946,  -4.7923,  -2.6595,\n",
            "          -8.8089,   6.3189,  -3.9089],\n",
            "        [ -3.3349,  -7.9445,  -0.6949,   2.4482,  -3.9602,   5.7012,  -1.7854,\n",
            "           1.3390,  -7.4059,  -5.6172],\n",
            "        [ -2.8608,  -7.8261,  -3.8846,   1.1518,  -4.6427,   1.9570,  -4.6380,\n",
            "           5.8246,  -5.4294,  -1.6123],\n",
            "        [ -0.3344,  -1.5382,  -6.4310,  -4.5483,  -3.8294,  -6.4855,  -4.4652,\n",
            "          -8.2016,   7.5406,   1.4528],\n",
            "        [ -6.3550,  -4.9876,   2.7765,  -0.0840,  -1.6308,  -2.2049,  10.3681,\n",
            "          -5.4555,  -5.1871,  -6.3790],\n",
            "        [  1.1663,  -1.0895,  -2.6442,  -0.9102,  -2.5054,   0.1687,  -3.7615,\n",
            "           5.5879,  -3.6714,   0.6864],\n",
            "        [  7.7044,  -4.6919,   5.6626,   1.5674,  -0.6132,  -3.2701,  -2.1403,\n",
            "          -5.4845,  -3.9379,  -5.7361],\n",
            "        [  2.3588, -11.4123,   0.2237,  -1.1591,   5.6569,  -3.6983,  -1.7010,\n",
            "          -4.4879,  -0.9733,  -7.1877],\n",
            "        [ -3.6998,   9.2516, -11.7391,  -3.2204,  -8.0690,  -5.2575,  -3.8084,\n",
            "          -3.1975,  -1.9870,  20.4240],\n",
            "        [ -5.4117, -10.8081,   0.2912,  -1.4219,   6.1955,   0.7192,  -2.4685,\n",
            "          -1.7212,  -6.5703,  -7.4013],\n",
            "        [ -0.4141,  -6.8841,   2.2973,   1.0047,   0.1438,   0.2331,   1.8100,\n",
            "          -2.3066,  -2.6825,  -2.5960],\n",
            "        [ -3.7722,  -6.8281,  -0.8556,   0.8047,   3.7138,  -0.0904,  -1.5685,\n",
            "           0.7898,  -4.5502,  -4.7215],\n",
            "        [  4.7793,  -5.5863,   3.0213,  -2.3822,  -0.4680,  -3.2987,  -1.7779,\n",
            "          -0.9716,  -3.9608,  -2.9003],\n",
            "        [ -1.4408,   5.3818,  -3.4018,  -0.9192,  -3.4135,  -2.4553,  -4.2319,\n",
            "          -1.0874,  -2.0967,  12.3602],\n",
            "        [ -4.1664,  -8.2988,  -1.3136,  -0.6763,   1.0306,  -2.1648,   7.9479,\n",
            "          -3.4679,  -7.3062,  -6.8746],\n",
            "        [ -3.1691,  -4.7318,   1.0310,  -0.1165,  -0.3785,  -0.7844,   6.6387,\n",
            "          -3.8654,  -5.6270,  -4.2021],\n",
            "        [ -4.5580,  -6.4888,   1.4758,   2.0550,  -1.8599,   4.6445,  -1.3836,\n",
            "          -1.8112,  -5.0624,  -4.5566],\n",
            "        [ -5.3204,  -9.7857,   0.1300,  -0.0286,   1.1839,  -4.3507,  -0.4164,\n",
            "          -4.9576,  -3.9420,  -8.4123],\n",
            "        [ -6.1063,  -4.2671,   1.0089,   1.6291,  -0.6948,   2.9682,   1.7273,\n",
            "          -4.4030,  -3.0379,  -2.5683],\n",
            "        [  2.9985,  -2.0245,  -6.2202,  -3.6617,  -6.4773,  -4.3941,  -8.6595,\n",
            "           0.8506,   0.6479,  11.7438],\n",
            "        [ -4.8227,   1.1662,  -3.0853,   1.4445,  -3.7492,   0.6983,   0.1248,\n",
            "          -3.0144,   0.6988,   0.1424],\n",
            "        [ -6.4781, -15.4714,  -1.6837,  -1.0346,   7.9653,   3.1625,  -4.3866,\n",
            "           4.9392, -10.5518, -12.9308],\n",
            "        [  2.7003,   6.9476,  -5.9545,  -0.9377,  -4.9997,  -3.1232,  -1.7355,\n",
            "          -1.7568,   1.0110,   7.1016],\n",
            "        [ -1.2666,   4.4312,  -9.9649,  -4.5108,  -7.2866,  -5.5080,  -6.7166,\n",
            "          -5.1379,   0.9365,  15.1894],\n",
            "        [ -5.6456,  -7.8669,  -3.5691,   1.8296,  -4.9362,   8.4439,  -5.1824,\n",
            "          -3.1103,  -6.6948,  -7.7400],\n",
            "        [  2.3146,  -8.8635,  -0.2061,  -2.6372,   7.1971,  -2.6902,  -5.8545,\n",
            "          -1.5277,  -3.9986,  -5.2036],\n",
            "        [ -5.1376,  -3.9846,   0.6572,  -0.2064,  -1.2010,  -1.8534,   9.4414,\n",
            "          -5.1558,  -4.5830,  -4.5258],\n",
            "        [ -1.8479,  -5.2356,  -1.3248,   2.0117,  -1.6225,   0.1613,  -3.8036,\n",
            "           3.4732,  -2.6849,  -1.8621],\n",
            "        [ -5.5100,  -4.8335,  -0.4298,  -0.4115,  -1.7740,  -1.4219,   7.6843,\n",
            "          -7.1214,  -2.2781,  -3.3638],\n",
            "        [  6.1252,  -2.5092,  -2.4084,  -3.5591,  -0.9199,  -4.9927,  -3.6712,\n",
            "          -5.4555,   0.9498,   0.3979],\n",
            "        [  0.7057,   2.0911,  -6.3555,  -2.1713,  -5.4774,  -3.7820,  -7.6363,\n",
            "          -2.2852,   0.2923,  11.4945],\n",
            "        [ -5.4437, -10.6199,  -0.3258,   4.1169,   2.3385,   1.2589,   1.9748,\n",
            "          -0.1386,  -6.6108,  -7.6212],\n",
            "        [  0.3443,  -1.2364,  -3.5811,  -0.7617,  -1.8468,  -2.8185,  -3.5785,\n",
            "          -2.3914,   2.4006,   2.1106],\n",
            "        [ -7.5762, -13.6530,   0.2705,  -2.8512,   8.0751,   2.7847,  -5.8608,\n",
            "           8.8152,  -8.8140, -10.8680],\n",
            "        [ -4.6555,  -7.4383,   0.4965,  -1.1786,   1.0917,  -1.9126,   5.6675,\n",
            "          -5.7543,  -7.9138,  -7.2776],\n",
            "        [  0.8432,   0.3820,  -5.6189,  -3.8871,  -5.7840,  -5.5145,  -2.7760,\n",
            "          -2.1427,   0.8886,   9.8659],\n",
            "        [ -0.9735,  -4.8389,  -4.9709,  -2.3650,  -3.0737,  -5.9469,  -1.0873,\n",
            "          -8.4197,   5.7752,  -4.1665],\n",
            "        [ -0.0308,  -4.0100,   1.7232,  -0.3071,  -2.9961,  -0.8089,  -0.7498,\n",
            "           2.8881,  -3.9917,  -1.3335],\n",
            "        [ -3.9416,  -4.5646,  -0.9707,   4.4063,   2.4324,   0.7261,   3.0014,\n",
            "          -3.0353,  -5.1987,  -3.1247],\n",
            "        [  1.4001,  -3.2378,  -4.3874,  -5.5635,  -3.3230,  -5.7244,  -6.1574,\n",
            "          -9.9558,   9.5174,  -5.8117],\n",
            "        [  1.0231,  -6.0576,  -2.7402,  -2.6903,  -1.9036,  -6.7084,  -5.2365,\n",
            "          -6.1297,   6.8587,  -0.7007],\n",
            "        [ -3.9356,  -7.2738,  -4.4285,   1.0752,  -2.4051,   3.3642,  -5.1743,\n",
            "           7.9200,  -6.9812,  -6.3703],\n",
            "        [ -5.4226,  -5.6078,  -1.9013,   1.0692,  -0.4541,   1.8035,  -0.1678,\n",
            "          -0.7555,  -3.5329,  -5.6820],\n",
            "        [ -0.5808,  -6.2951,  -1.6609,   1.5604,  -0.1405,   1.6330,   1.1494,\n",
            "          -0.5816,  -3.4899,  -4.2145],\n",
            "        [ -3.2950,  -5.7216,  -2.6104,   2.8345,   1.9345,   2.3589,   0.9847,\n",
            "           1.8829,  -5.9756,  -5.2087],\n",
            "        [ -7.5209, -12.1161,  -0.9051,  -5.5820,   9.6987,   1.9809, -11.0055,\n",
            "          16.9375, -12.5921, -11.7254],\n",
            "        [ -4.0503,  -6.7205,   0.2083,   2.5811,  -2.8261,   5.8024,  -0.3625,\n",
            "          -0.6799,  -5.9229,  -4.6438],\n",
            "        [ -3.4709,  -1.7474,  -0.4525,  -0.8730,   0.0880,  -0.5041,   4.3655,\n",
            "          -2.3207,  -1.4046,  -1.7665],\n",
            "        [  0.3785,   0.6177,  -1.2353,   1.9509,  -2.0713,  -1.6077,  -3.3114,\n",
            "          -3.3090,  -2.7770,   2.8180]], device='cuda:0',\n",
            "       grad_fn=<AddmmBackward0>)\n"
          ]
        }
      ],
      "source": [
        "# Visualization of predictions\n",
        "classes = ['airplane', 'automobile', 'bird', 'cat', 'deer', 'dog', 'frog', 'horse', 'ship', 'truck']\n",
        "\n",
        "import torch\n",
        "import matplotlib.pyplot as plt\n",
        "import numpy as np\n",
        "\n",
        "# Get some random test images\n",
        "dataiter = iter(test_loader)\n",
        "images, labels = next(dataiter)\n",
        "\n",
        "# Print the shape of images and labels\n",
        "print(f\"Shape of images: {images.shape}\")  # Expected shape: (batch_size, 3, 32, 32) or similar\n",
        "print(f\"Shape of labels: {labels.shape}\")  # Expected shape: (batch_size,)\n",
        "\n",
        "# Show the actual labels\n",
        "print(f\"Actual labels: {labels}\")\n",
        "\n",
        "# Move images to the same device as the model\n",
        "images = images.to(device)\n",
        "\n",
        "# Predict on test images\n",
        "outputs = model(images)\n",
        "\n",
        "# Print the raw model output (logits)\n",
        "print(f\"Raw model outputs (logits): {outputs}\")\n",
        "\n",
        "# Convert raw outputs to probabilities using softmax and get the predicted class\n",
        "_, predicted = torch.max(outputs, 1)"
      ]
    },
    {
      "cell_type": "code",
      "source": [
        "# Print the predicted labels\n",
        "print(f\"Predicted labels: {predicted}\")\n",
        "\n",
        "# Visualize the images with predictions and actual labels\n",
        "fig, axes = plt.subplots(1, 10, figsize=(20, 20))  # Assuming a batch size of 10 for visualization\n",
        "for i in range(10):\n",
        "    image = images[i].cpu().numpy().transpose((1, 2, 0))  # Convert from Tensor to NumPy and transpose for correct orientation\n",
        "    image = np.clip(image, 0, 1)  # Ensure image values are in range [0, 1]\n",
        "\n",
        "    axes[i].imshow(image)\n",
        "    axes[i].set_title(f\"Pred: {classes[predicted[i]]}\\nActual: {classes[labels[i]]}\")\n",
        "    axes[i].axis('off')\n",
        "\n",
        "plt.show()\n",
        "\n",
        "# Now let's check accuracy across the entire test dataset\n",
        "correct = 0\n",
        "total = 0\n",
        "\n",
        "# Turn off gradient computation for testing/inference to speed up the process and save memory\n",
        "with torch.no_grad():\n",
        "    for data in test_loader:\n",
        "        images, labels = data\n",
        "        images, labels = images.to(device), labels.to(device)\n",
        "\n",
        "        outputs = model(images)\n",
        "        _, predicted = torch.max(outputs, 1)\n",
        "\n",
        "        total += labels.size(0)\n",
        "        correct += (predicted == labels).sum().item()"
      ],
      "metadata": {
        "colab": {
          "base_uri": "https://localhost:8080/",
          "height": 172
        },
        "id": "Bbir3ZzIOxYl",
        "outputId": "5452f930-d84e-4f8d-ed08-b18f5f6f0376"
      },
      "execution_count": 13,
      "outputs": [
        {
          "output_type": "stream",
          "name": "stdout",
          "text": [
            "Predicted labels: tensor([7, 3, 8, 0, 8, 4, 7, 0, 3, 3, 3, 3, 4, 5, 1, 7], device='cuda:0')\n"
          ]
        },
        {
          "output_type": "display_data",
          "data": {
            "text/plain": [
              "<Figure size 2000x2000 with 10 Axes>"
            ],
            "image/png": "[encoded data removed]"
          },
          "metadata": {}
        }
      ]
    },
    {
      "cell_type": "code",
      "source": [
        "# Print batch accuracy\n",
        "print(f\"Batch Accuracy: {(predicted == labels).sum().item() / labels.size(0) * 100:.2f}%\")"
      ],
      "metadata": {
        "colab": {
          "base_uri": "https://localhost:8080/"
        },
        "id": "5PcFYublMroK",
        "outputId": "59f41e74-57fe-45a7-e9d5-00a86256f6ff"
      },
      "execution_count": 11,
      "outputs": [
        {
          "output_type": "stream",
          "name": "stdout",
          "text": [
            "Batch Accuracy: 68.75%\n"
          ]
        }
      ]
    },
    {
      "cell_type": "code",
      "source": [
        "\n",
        "# Print overall accuracy\n",
        "print(f'Accuracy of the network on the test images: {100 * correct / total:.2f}%')"
      ],
      "metadata": {
        "colab": {
          "base_uri": "https://localhost:8080/"
        },
        "id": "t3k-nlO0M0Yo",
        "outputId": "93724464-781c-4451-a040-354b1bdb47e8"
      },
      "execution_count": 12,
      "outputs": [
        {
          "output_type": "stream",
          "name": "stdout",
          "text": [
            "Accuracy of the network on the test images: 79.90%\n"
          ]
        }
      ]
    }
  ]
}